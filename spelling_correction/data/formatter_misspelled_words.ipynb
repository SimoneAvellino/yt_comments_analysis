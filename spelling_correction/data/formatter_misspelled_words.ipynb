{
 "cells": [
  {
   "cell_type": "markdown",
   "id": "a800e643",
   "metadata": {},
   "source": [
    "This notebook processes the file `unformatted_misspelled_words.txt`, which contains rows in the following format:\n",
    "\n",
    "    misspelled_word->correct_word1, correct_word2, ...\n",
    "\n",
    "for example:\n",
    "\n",
    "    cemetary->cemetery\n",
    "    cencus->census\n",
    "    censur->censor, censure\n",
    "\n",
    "This notebook is used to create a formatted file that has this format:\n",
    "\n",
    "    correct_word1: misspelled_word\n",
    "    correct_word2: misspelled_word\n",
    "    ...\n"
   ]
  },
  {
   "cell_type": "code",
   "execution_count": 3,
   "id": "d10634a6",
   "metadata": {},
   "outputs": [],
   "source": [
    "with open('unformatted_misspelled_words.txt', 'r') as file:\n",
    "    lines = file.readlines()\n",
    "    \n",
    "# exclude the first two lines\n",
    "lines = lines[2:]"
   ]
  },
  {
   "cell_type": "code",
   "execution_count": null,
   "id": "5994bfb0",
   "metadata": {},
   "outputs": [],
   "source": [
    "with open('common_errors.txt', 'w') as output_file:\n",
    "    for line in lines:\n",
    "        # Split the line into words\n",
    "        misspelled_word, correct_words_str = line.split('->')\n",
    "        correct_words = correct_words_str.split(', ')\n",
    "        \n",
    "        for correct_word in correct_words:\n",
    "            # Remove leading and trailing whitespace\n",
    "            misspelled_word = misspelled_word.strip()\n",
    "            correct_word = correct_word.strip()\n",
    "            \n",
    "            # Write the formatted output to the file\n",
    "            output_file.write(f\"{correct_word}:{misspelled_word}\\n\")"
   ]
  }
 ],
 "metadata": {
  "kernelspec": {
   "display_name": "nlp",
   "language": "python",
   "name": "python3"
  },
  "language_info": {
   "codemirror_mode": {
    "name": "ipython",
    "version": 3
   },
   "file_extension": ".py",
   "mimetype": "text/x-python",
   "name": "python",
   "nbconvert_exporter": "python",
   "pygments_lexer": "ipython3",
   "version": "3.12.9"
  }
 },
 "nbformat": 4,
 "nbformat_minor": 5
}
